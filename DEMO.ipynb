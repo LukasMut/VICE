{
 "cells": [
  {
   "cell_type": "markdown",
   "id": "bc9fc984",
   "metadata": {},
   "source": [
    "# Vartiational Inference for Concept Embeddings (VICE)"
   ]
  },
  {
   "cell_type": "markdown",
   "id": "3348d147",
   "metadata": {},
   "source": [
    "## Install dependencies"
   ]
  },
  {
   "cell_type": "code",
   "execution_count": null,
   "id": "495b9cd1",
   "metadata": {},
   "outputs": [],
   "source": [
    "!pip install -r './requirements.txt'"
   ]
  },
  {
   "cell_type": "code",
   "execution_count": null,
   "id": "80c33bd1",
   "metadata": {},
   "outputs": [],
   "source": [
    "import argparse\n",
    "import os\n",
    "import random\n",
    "import torch\n",
    "import utils\n",
    "import visualization\n",
    "\n",
    "import numpy as np\n",
    "\n",
    "from model.vice import VICE\n",
    "from typing import Tuple"
   ]
  },
  {
   "cell_type": "markdown",
   "id": "1ec8986a",
   "metadata": {},
   "source": [
    "## I/O"
   ]
  },
  {
   "cell_type": "code",
   "execution_count": null,
   "id": "9bd61cfc",
   "metadata": {},
   "outputs": [],
   "source": [
    "# specify input and output directories\n",
    "triplets_dir = './path/to/triplets/'\n",
    "results_dir = './path/to/results/'\n",
    "plots_dir = './path/to/plots'"
   ]
  },
  {
   "cell_type": "markdown",
   "id": "b0f2049b",
   "metadata": {},
   "source": [
    "### Variables and hyperparameters"
   ]
  },
  {
   "cell_type": "code",
   "execution_count": null,
   "id": "06e1a415",
   "metadata": {},
   "outputs": [],
   "source": [
    "# define variables\n",
    "task = 'odd_one_out' # 3AFC\n",
    "modality = 'behavioral'\n",
    "epochs = 1000 # maximum number of epochs\n",
    "burnin = 500 # minimum number of epochs\n",
    "latent_dim = 50 # initial latent dimensionality of VICE\n",
    "batch_size = 128 # use power of 2 if you intend to perfrom model training on a GPU, else see what works best\n",
    "optim = 'adam'\n",
    "prior = 'gaussian' # spike-and-slab Gaussian mixture prior\n",
    "mc_samples = 10\n",
    "eta = 1e-3 # learning rate used in optimizer\n",
    "spike = 0.1 # sigma_spike\n",
    "slab = 1.0 # sigma_slab\n",
    "pi = 0.5\n",
    "k = 5 # minimum number of items that compose a latent dimension (according to importance scores)\n",
    "ws = 200 # window size determines for how many epochs the number of latent causes (after pruning) is not allowed to vary\n",
    "steps = 50\n",
    "seed = 42\n",
    "verbose = True"
   ]
  },
  {
   "cell_type": "code",
   "execution_count": null,
   "id": "28f48c69",
   "metadata": {},
   "outputs": [],
   "source": [
    "# seed random number generator\n",
    "np.random.seed(seed)\n",
    "random.seed(seed)\n",
    "torch.manual_seed(seed)\n",
    "\n",
    "# set device\n",
    "if torch.cuda.is_available():\n",
    "    device = torch.device('cuda')\n",
    "    torch.cuda.manual_seed_all(seed)\n",
    "else:\n",
    "    # number of threads used for intraop parallelism on CPU; use only if device is CPU\n",
    "    num_threads = 8\n",
    "    torch.set_num_threads(num_threads)\n",
    "    os.environ['OMP_NUM_THREADS'] = str(num_threads)\n",
    "    device = torch.device('cpu')"
   ]
  },
  {
   "cell_type": "markdown",
   "id": "e65bf111",
   "metadata": {},
   "source": [
    "### Create mini-batches of train and test triplets"
   ]
  },
  {
   "cell_type": "code",
   "execution_count": null,
   "id": "cde04498",
   "metadata": {},
   "outputs": [],
   "source": [
    "# load train and test triplets into memory\n",
    "train_triplets, test_triplets = utils.load_data(device=device, triplets_dir=triplets_dir)\n",
    "\n",
    "# get number of trials and number of unique items in the data\n",
    "N = train_triplets.shape[0]\n",
    "n_items = utils.get_nitems(train_triplets)\n",
    "\n",
    "# load mini-batches for training\n",
    "train_batches, val_batches = utils.load_batches(\n",
    "                                                train_triplets=train_triplets,\n",
    "                                                test_triplets=test_triplets,\n",
    "                                                n_items=n_items,\n",
    "                                                batch_size=batch_size,\n",
    "                                                inference=False,\n",
    ")"
   ]
  },
  {
   "cell_type": "markdown",
   "id": "20e91059",
   "metadata": {},
   "source": [
    "### Create directories"
   ]
  },
  {
   "cell_type": "code",
   "execution_count": null,
   "id": "6374695b",
   "metadata": {},
   "outputs": [],
   "source": [
    "# helper to create directories for storing results\n",
    "def create_dirs(\n",
    "                results_dir: str,\n",
    "                plots_dir: str,\n",
    "                modality: str,\n",
    "                latent_dim: int,\n",
    "                optim: str,\n",
    "                prior: str,\n",
    "                spike: float,\n",
    "                slab: float,\n",
    "                pi: float,\n",
    "                rnd_seed: int,\n",
    ") -> Tuple[str, str, str]:\n",
    "    \"\"\"Create directories for results, plots, and model parameters.\"\"\"\n",
    "    print('\\n...Creating directories.\\n')\n",
    "    if results_dir == './results/':\n",
    "        results_dir = os.path.join(\n",
    "                                    results_dir,\n",
    "                                    modality,\n",
    "                                    f'{latent_dim}d',\n",
    "                                    optim,\n",
    "                                    prior,\n",
    "                                    str(spike),\n",
    "                                    str(slab),\n",
    "                                    str(pi),\n",
    "                                    f'seed{rnd_seed:02d}',\n",
    "        )\n",
    "    if not os.path.exists(results_dir):\n",
    "        os.makedirs(results_dir, exist_ok=True)\n",
    "        \n",
    "    if plots_dir == './plots/':\n",
    "        plots_dir = os.path.join(\n",
    "                                 plots_dir,\n",
    "                                 modality,\n",
    "                                 f'{latent_dim}d',\n",
    "                                 optim,\n",
    "                                 prior,\n",
    "                                 str(spike),\n",
    "                                 str(slab),\n",
    "                                 str(pi),\n",
    "                                 f'seed{rnd_seed:02d}',\n",
    "        )\n",
    "    if not os.path.exists(plots_dir):\n",
    "        os.makedirs(plots_dir, exist_ok=True)\n",
    "        \n",
    "    model_dir = os.path.join(results_dir, 'model')\n",
    "    return results_dir, plots_dir, model_dir"
   ]
  },
  {
   "cell_type": "code",
   "execution_count": null,
   "id": "6394aaf5",
   "metadata": {
    "scrolled": false
   },
   "outputs": [],
   "source": [
    "results_dir, plots_dir, model_dir = create_dirs(\n",
    "                                                results_dir=results_dir,\n",
    "                                                plots_dir=plots_dir,\n",
    "                                                modality=modality,\n",
    "                                                latent_dim=latent_dim,\n",
    "                                                optim=optim,\n",
    "                                                prior=prior,\n",
    "                                                spike=spike,\n",
    "                                                slab=slab,\n",
    "                                                pi=pi,\n",
    "                                                rnd_seed=seed,\n",
    "                                            )"
   ]
  },
  {
   "cell_type": "markdown",
   "id": "c920f7ac",
   "metadata": {},
   "source": [
    "## VICE optimization"
   ]
  },
  {
   "cell_type": "code",
   "execution_count": null,
   "id": "56c533ee",
   "metadata": {
    "scrolled": false
   },
   "outputs": [],
   "source": [
    "# initialize VICE model\n",
    "vice = VICE(\n",
    "            task=task,\n",
    "            n_train=N,\n",
    "            n_items=n_items,\n",
    "            latent_dim=latent_dim,\n",
    "            optim=optim,\n",
    "            eta=eta,\n",
    "            batch_size=batch_size,\n",
    "            epochs=epochs,\n",
    "            burnin=burnin,\n",
    "            mc_samples=mc_samples,\n",
    "            prior=prior,\n",
    "            spike=spike,\n",
    "            slab=slab,\n",
    "            pi=pi,\n",
    "            k=k,\n",
    "            ws=ws,\n",
    "            steps=steps,\n",
    "            model_dir=model_dir,\n",
    "            results_dir=results_dir,\n",
    "            device=device,\n",
    "            verbose=verbose,\n",
    "            init_weights=True,\n",
    "    )\n",
    "\n",
    "# move VICE to current device\n",
    "vice.to(device)\n",
    "\n",
    "# perform VICE optimization\n",
    "vice.fit(train_batches=train_batches, val_batches=val_batches)"
   ]
  },
  {
   "cell_type": "code",
   "execution_count": null,
   "id": "7b6e8911",
   "metadata": {},
   "outputs": [],
   "source": [
    "# get train and validation prediction accuracies, log-likelihoods, and complexity losses (KLDs)\n",
    "train_accs = vice.train_accs\n",
    "val_accs = vice.val_accs\n",
    "loglikelihoods = vice.loglikelihoods\n",
    "complexity_losses = vice.complexity_losses\n",
    "latent_dimensions = vice.latent_dimensions"
   ]
  },
  {
   "cell_type": "markdown",
   "id": "bcef37ce",
   "metadata": {},
   "source": [
    "### Performance plots"
   ]
  },
  {
   "cell_type": "code",
   "execution_count": null,
   "id": "2349a83a",
   "metadata": {
    "scrolled": false
   },
   "outputs": [],
   "source": [
    "# plot train and validation (prediction) accuracies against each other to examine whether model overfits the training data\n",
    "visualization.plot_single_performance(\n",
    "                                        plots_dir=plots_dir,\n",
    "                                        val_accs=val_accs,\n",
    "                                        train_accs=train_accs,\n",
    "                                        steps=steps,\n",
    "                                        show_plot=True\n",
    ")"
   ]
  },
  {
   "cell_type": "code",
   "execution_count": null,
   "id": "ef11f594",
   "metadata": {
    "scrolled": false
   },
   "outputs": [],
   "source": [
    "# plot complexity losses (KLDs) and log-likelihoods over time\n",
    "visualization.plot_complexities_and_loglikelihoods(\n",
    "                                                    plots_dir=plots_dir,\n",
    "                                                    loglikelihoods=loglikelihoods,\n",
    "                                                    complexity_losses=complexity_losses,\n",
    "                                                    show_plot=True\n",
    ")"
   ]
  },
  {
   "cell_type": "code",
   "execution_count": null,
   "id": "9ea941d7",
   "metadata": {},
   "outputs": [],
   "source": [
    "# plot number of latent causes (selected dimensions after pruning) over time\n",
    "visualization.plot_latent_causes(\n",
    "                                plots_dir=plots_dir,\n",
    "                                latent_causes=latent_dimensions,\n",
    "                                show_plot=True\n",
    ")"
   ]
  },
  {
   "cell_type": "markdown",
   "id": "93dab0aa",
   "metadata": {},
   "source": [
    "### Save unpruned locations and scales after convergence"
   ]
  },
  {
   "cell_type": "code",
   "execution_count": null,
   "id": "e99adff5",
   "metadata": {},
   "outputs": [],
   "source": [
    "# get means and standard deviations\n",
    "params = vice.detached_params\n",
    "W_loc=params['loc']\n",
    "W_scale=params['scale']"
   ]
  },
  {
   "cell_type": "code",
   "execution_count": null,
   "id": "2977802d",
   "metadata": {},
   "outputs": [],
   "source": [
    "# compress model params and store as binary files\n",
    "with open(os.path.join(results_dir, 'parameters.npz'), 'wb') as f:\n",
    "    np.savez_compressed(f, W_loc=W_loc, W_scale=W_scale)"
   ]
  },
  {
   "cell_type": "markdown",
   "id": "02d5fa7d",
   "metadata": {},
   "source": [
    "### Load pruned locations and scales of converged VICE model for downstream applications"
   ]
  },
  {
   "cell_type": "code",
   "execution_count": null,
   "id": "86b60dcf",
   "metadata": {},
   "outputs": [],
   "source": [
    "# load pruned VICE params\n",
    "pruned_params = np.load(os.path.join(results_dir, 'pruned_params.npz'))\n",
    "pruned_loc = pruned_params['pruned_loc']\n",
    "pruned_scale = pruned_params['pruned_scale']"
   ]
  }
 ],
 "metadata": {
  "kernelspec": {
   "display_name": "Python 3 (ipykernel)",
   "language": "python",
   "name": "python3"
  },
  "language_info": {
   "codemirror_mode": {
    "name": "ipython",
    "version": 3
   },
   "file_extension": ".py",
   "mimetype": "text/x-python",
   "name": "python",
   "nbconvert_exporter": "python",
   "pygments_lexer": "ipython3",
   "version": "3.8.12"
  }
 },
 "nbformat": 4,
 "nbformat_minor": 5
}
